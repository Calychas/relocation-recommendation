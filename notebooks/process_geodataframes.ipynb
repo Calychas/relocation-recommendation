{
 "cells": [
  {
   "cell_type": "code",
   "execution_count": 1,
   "metadata": {
    "collapsed": true
   },
   "outputs": [],
   "source": [
    "from settings import PROCESSED_DATA_DIR\n",
    "\n",
    "path_to_embeddings = PROCESSED_DATA_DIR.joinpath(\"aggregate_embeddings.pkl.gz\")\n",
    "path_to_embeddings_distances = PROCESSED_DATA_DIR.joinpath(\"aggregate_embeddings_distances.pkl.gz\")"
   ]
  },
  {
   "cell_type": "code",
   "execution_count": 7,
   "outputs": [],
   "source": [
    "import pandas as pd\n",
    "import geopandas as gpd\n",
    "import os\n",
    "embeddings = pd.read_pickle(path_to_embeddings)\n",
    "embeddings_distances = pd.read_pickle(path_to_embeddings_distances)"
   ],
   "metadata": {
    "collapsed": false,
    "pycharm": {
     "name": "#%%\n"
    }
   }
  },
  {
   "cell_type": "code",
   "execution_count": 5,
   "outputs": [
    {
     "data": {
      "text/plain": "                      x_0       x_1       x_2       x_3       x_4       x_5  \\\nh3_id                                                                         \n891e2047227ffff  0.542117 -0.514654  0.693679  0.664160  0.587295  0.685693   \n891e2041867ffff -4.011417 -0.154123 -1.944644  1.436568  1.010988 -2.223995   \n891e20404dbffff  0.335061 -0.452461  0.641631  0.671191  0.474576  0.508945   \n891e2040c33ffff  0.007928  0.093942 -1.053146 -0.072815 -0.465310 -0.299949   \n891e20423d7ffff  0.213363  0.057587  0.396731  0.388958  0.268105  0.249308   \n...                   ...       ...       ...       ...       ...       ...   \n891f09b622bffff  0.542117 -0.514654  0.693679  0.664160  0.587295  0.685693   \n891f0986c2bffff  0.535524 -0.231278  0.571804  0.544489  0.528099  0.541620   \n891f09b33a3ffff -1.238623  0.687539 -0.824188 -0.952349 -0.921166  0.130104   \n891f09b34d7ffff  1.062865  0.129554 -1.342558 -1.449273 -0.556013  0.243901   \n891f72493a7ffff  0.542117 -0.514654  0.693679  0.664160  0.587295  0.685693   \n\n                      x_6       x_7       x_8       x_9  ...      z_40  \\\nh3_id                                                    ...             \n891e2047227ffff -0.350693  0.473523  0.099620 -0.481492  ...  0.203112   \n891e2041867ffff  1.264065 -0.510852 -0.255622  0.358845  ... -0.666006   \n891e20404dbffff -0.096513  0.668564  0.032406 -0.667877  ... -0.978318   \n891e2040c33ffff  1.137845  0.119595  0.121624  0.842786  ... -0.387774   \n891e20423d7ffff  0.057507  0.392151 -0.104613 -0.690975  ... -0.906250   \n...                   ...       ...       ...       ...  ...       ...   \n891f09b622bffff -0.350693  0.473523  0.099620 -0.481492  ...  0.264367   \n891f0986c2bffff -0.307403  0.265283  0.066320 -0.403562  ...  1.617169   \n891f09b33a3ffff -1.083446 -0.751202 -0.816578  0.120221  ... -1.262890   \n891f09b34d7ffff  0.587489  0.246290  1.663013  0.145898  ... -1.085231   \n891f72493a7ffff -0.350693  0.473523  0.099620 -0.481492  ...  2.294196   \n\n                     z_41      z_42      z_43      z_44      z_45      z_46  \\\nh3_id                                                                         \n891e2047227ffff  0.194455  1.686684  0.398253 -0.256026 -0.547759 -0.381023   \n891e2041867ffff -0.559444  0.323070  0.262095 -0.142105  0.667953 -0.393109   \n891e20404dbffff -0.861461 -0.455135 -0.716439  0.971700 -0.811013 -1.123797   \n891e2040c33ffff -1.700107  0.872719  0.193882 -0.806236 -0.366838 -0.024850   \n891e20423d7ffff  0.779232 -0.046731 -0.204506 -0.703075 -0.048561 -0.035544   \n...                   ...       ...       ...       ...       ...       ...   \n891f09b622bffff -0.765455  0.468563  0.137705  1.096996  1.178961 -0.462876   \n891f0986c2bffff -0.011638  0.803576 -0.558387  0.461598  0.210936 -1.655029   \n891f09b33a3ffff -0.045482  0.315399 -0.827297 -0.384616 -0.461100  0.627925   \n891f09b34d7ffff -0.412482 -0.955008  1.493144  2.264934 -1.307879 -0.916876   \n891f72493a7ffff  0.534632 -0.739996 -0.636674 -1.755795  0.836971 -2.654411   \n\n                     z_47      z_48      z_49  \nh3_id                                          \n891e2047227ffff -1.676773 -0.347787  0.383098  \n891e2041867ffff  0.788736 -1.302262  0.776415  \n891e20404dbffff  2.082579 -1.859371  0.916266  \n891e2040c33ffff -0.099772 -1.368992 -1.096050  \n891e20423d7ffff  0.277125  0.145702 -0.696543  \n...                   ...       ...       ...  \n891f09b622bffff -1.222763  0.519774  2.711257  \n891f0986c2bffff  2.411630 -2.120209 -0.415291  \n891f09b33a3ffff  1.972909 -0.530778 -0.201359  \n891f09b34d7ffff  1.561926 -1.213078  1.690881  \n891f72493a7ffff -0.256480 -1.209140 -0.803554  \n\n[17847 rows x 144 columns]",
      "text/html": "<div>\n<style scoped>\n    .dataframe tbody tr th:only-of-type {\n        vertical-align: middle;\n    }\n\n    .dataframe tbody tr th {\n        vertical-align: top;\n    }\n\n    .dataframe thead th {\n        text-align: right;\n    }\n</style>\n<table border=\"1\" class=\"dataframe\">\n  <thead>\n    <tr style=\"text-align: right;\">\n      <th></th>\n      <th>x_0</th>\n      <th>x_1</th>\n      <th>x_2</th>\n      <th>x_3</th>\n      <th>x_4</th>\n      <th>x_5</th>\n      <th>x_6</th>\n      <th>x_7</th>\n      <th>x_8</th>\n      <th>x_9</th>\n      <th>...</th>\n      <th>z_40</th>\n      <th>z_41</th>\n      <th>z_42</th>\n      <th>z_43</th>\n      <th>z_44</th>\n      <th>z_45</th>\n      <th>z_46</th>\n      <th>z_47</th>\n      <th>z_48</th>\n      <th>z_49</th>\n    </tr>\n    <tr>\n      <th>h3_id</th>\n      <th></th>\n      <th></th>\n      <th></th>\n      <th></th>\n      <th></th>\n      <th></th>\n      <th></th>\n      <th></th>\n      <th></th>\n      <th></th>\n      <th></th>\n      <th></th>\n      <th></th>\n      <th></th>\n      <th></th>\n      <th></th>\n      <th></th>\n      <th></th>\n      <th></th>\n      <th></th>\n      <th></th>\n    </tr>\n  </thead>\n  <tbody>\n    <tr>\n      <th>891e2047227ffff</th>\n      <td>0.542117</td>\n      <td>-0.514654</td>\n      <td>0.693679</td>\n      <td>0.664160</td>\n      <td>0.587295</td>\n      <td>0.685693</td>\n      <td>-0.350693</td>\n      <td>0.473523</td>\n      <td>0.099620</td>\n      <td>-0.481492</td>\n      <td>...</td>\n      <td>0.203112</td>\n      <td>0.194455</td>\n      <td>1.686684</td>\n      <td>0.398253</td>\n      <td>-0.256026</td>\n      <td>-0.547759</td>\n      <td>-0.381023</td>\n      <td>-1.676773</td>\n      <td>-0.347787</td>\n      <td>0.383098</td>\n    </tr>\n    <tr>\n      <th>891e2041867ffff</th>\n      <td>-4.011417</td>\n      <td>-0.154123</td>\n      <td>-1.944644</td>\n      <td>1.436568</td>\n      <td>1.010988</td>\n      <td>-2.223995</td>\n      <td>1.264065</td>\n      <td>-0.510852</td>\n      <td>-0.255622</td>\n      <td>0.358845</td>\n      <td>...</td>\n      <td>-0.666006</td>\n      <td>-0.559444</td>\n      <td>0.323070</td>\n      <td>0.262095</td>\n      <td>-0.142105</td>\n      <td>0.667953</td>\n      <td>-0.393109</td>\n      <td>0.788736</td>\n      <td>-1.302262</td>\n      <td>0.776415</td>\n    </tr>\n    <tr>\n      <th>891e20404dbffff</th>\n      <td>0.335061</td>\n      <td>-0.452461</td>\n      <td>0.641631</td>\n      <td>0.671191</td>\n      <td>0.474576</td>\n      <td>0.508945</td>\n      <td>-0.096513</td>\n      <td>0.668564</td>\n      <td>0.032406</td>\n      <td>-0.667877</td>\n      <td>...</td>\n      <td>-0.978318</td>\n      <td>-0.861461</td>\n      <td>-0.455135</td>\n      <td>-0.716439</td>\n      <td>0.971700</td>\n      <td>-0.811013</td>\n      <td>-1.123797</td>\n      <td>2.082579</td>\n      <td>-1.859371</td>\n      <td>0.916266</td>\n    </tr>\n    <tr>\n      <th>891e2040c33ffff</th>\n      <td>0.007928</td>\n      <td>0.093942</td>\n      <td>-1.053146</td>\n      <td>-0.072815</td>\n      <td>-0.465310</td>\n      <td>-0.299949</td>\n      <td>1.137845</td>\n      <td>0.119595</td>\n      <td>0.121624</td>\n      <td>0.842786</td>\n      <td>...</td>\n      <td>-0.387774</td>\n      <td>-1.700107</td>\n      <td>0.872719</td>\n      <td>0.193882</td>\n      <td>-0.806236</td>\n      <td>-0.366838</td>\n      <td>-0.024850</td>\n      <td>-0.099772</td>\n      <td>-1.368992</td>\n      <td>-1.096050</td>\n    </tr>\n    <tr>\n      <th>891e20423d7ffff</th>\n      <td>0.213363</td>\n      <td>0.057587</td>\n      <td>0.396731</td>\n      <td>0.388958</td>\n      <td>0.268105</td>\n      <td>0.249308</td>\n      <td>0.057507</td>\n      <td>0.392151</td>\n      <td>-0.104613</td>\n      <td>-0.690975</td>\n      <td>...</td>\n      <td>-0.906250</td>\n      <td>0.779232</td>\n      <td>-0.046731</td>\n      <td>-0.204506</td>\n      <td>-0.703075</td>\n      <td>-0.048561</td>\n      <td>-0.035544</td>\n      <td>0.277125</td>\n      <td>0.145702</td>\n      <td>-0.696543</td>\n    </tr>\n    <tr>\n      <th>...</th>\n      <td>...</td>\n      <td>...</td>\n      <td>...</td>\n      <td>...</td>\n      <td>...</td>\n      <td>...</td>\n      <td>...</td>\n      <td>...</td>\n      <td>...</td>\n      <td>...</td>\n      <td>...</td>\n      <td>...</td>\n      <td>...</td>\n      <td>...</td>\n      <td>...</td>\n      <td>...</td>\n      <td>...</td>\n      <td>...</td>\n      <td>...</td>\n      <td>...</td>\n      <td>...</td>\n    </tr>\n    <tr>\n      <th>891f09b622bffff</th>\n      <td>0.542117</td>\n      <td>-0.514654</td>\n      <td>0.693679</td>\n      <td>0.664160</td>\n      <td>0.587295</td>\n      <td>0.685693</td>\n      <td>-0.350693</td>\n      <td>0.473523</td>\n      <td>0.099620</td>\n      <td>-0.481492</td>\n      <td>...</td>\n      <td>0.264367</td>\n      <td>-0.765455</td>\n      <td>0.468563</td>\n      <td>0.137705</td>\n      <td>1.096996</td>\n      <td>1.178961</td>\n      <td>-0.462876</td>\n      <td>-1.222763</td>\n      <td>0.519774</td>\n      <td>2.711257</td>\n    </tr>\n    <tr>\n      <th>891f0986c2bffff</th>\n      <td>0.535524</td>\n      <td>-0.231278</td>\n      <td>0.571804</td>\n      <td>0.544489</td>\n      <td>0.528099</td>\n      <td>0.541620</td>\n      <td>-0.307403</td>\n      <td>0.265283</td>\n      <td>0.066320</td>\n      <td>-0.403562</td>\n      <td>...</td>\n      <td>1.617169</td>\n      <td>-0.011638</td>\n      <td>0.803576</td>\n      <td>-0.558387</td>\n      <td>0.461598</td>\n      <td>0.210936</td>\n      <td>-1.655029</td>\n      <td>2.411630</td>\n      <td>-2.120209</td>\n      <td>-0.415291</td>\n    </tr>\n    <tr>\n      <th>891f09b33a3ffff</th>\n      <td>-1.238623</td>\n      <td>0.687539</td>\n      <td>-0.824188</td>\n      <td>-0.952349</td>\n      <td>-0.921166</td>\n      <td>0.130104</td>\n      <td>-1.083446</td>\n      <td>-0.751202</td>\n      <td>-0.816578</td>\n      <td>0.120221</td>\n      <td>...</td>\n      <td>-1.262890</td>\n      <td>-0.045482</td>\n      <td>0.315399</td>\n      <td>-0.827297</td>\n      <td>-0.384616</td>\n      <td>-0.461100</td>\n      <td>0.627925</td>\n      <td>1.972909</td>\n      <td>-0.530778</td>\n      <td>-0.201359</td>\n    </tr>\n    <tr>\n      <th>891f09b34d7ffff</th>\n      <td>1.062865</td>\n      <td>0.129554</td>\n      <td>-1.342558</td>\n      <td>-1.449273</td>\n      <td>-0.556013</td>\n      <td>0.243901</td>\n      <td>0.587489</td>\n      <td>0.246290</td>\n      <td>1.663013</td>\n      <td>0.145898</td>\n      <td>...</td>\n      <td>-1.085231</td>\n      <td>-0.412482</td>\n      <td>-0.955008</td>\n      <td>1.493144</td>\n      <td>2.264934</td>\n      <td>-1.307879</td>\n      <td>-0.916876</td>\n      <td>1.561926</td>\n      <td>-1.213078</td>\n      <td>1.690881</td>\n    </tr>\n    <tr>\n      <th>891f72493a7ffff</th>\n      <td>0.542117</td>\n      <td>-0.514654</td>\n      <td>0.693679</td>\n      <td>0.664160</td>\n      <td>0.587295</td>\n      <td>0.685693</td>\n      <td>-0.350693</td>\n      <td>0.473523</td>\n      <td>0.099620</td>\n      <td>-0.481492</td>\n      <td>...</td>\n      <td>2.294196</td>\n      <td>0.534632</td>\n      <td>-0.739996</td>\n      <td>-0.636674</td>\n      <td>-1.755795</td>\n      <td>0.836971</td>\n      <td>-2.654411</td>\n      <td>-0.256480</td>\n      <td>-1.209140</td>\n      <td>-0.803554</td>\n    </tr>\n  </tbody>\n</table>\n<p>17847 rows × 144 columns</p>\n</div>"
     },
     "execution_count": 5,
     "metadata": {},
     "output_type": "execute_result"
    }
   ],
   "source": [
    "embeddings"
   ],
   "metadata": {
    "collapsed": false,
    "pycharm": {
     "name": "#%%\n"
    }
   }
  },
  {
   "cell_type": "code",
   "execution_count": 3,
   "outputs": [
    {
     "data": {
      "text/plain": "h3_id            891e2047227ffff  891e2041867ffff  891e20404dbffff  \\\nh3_id                                                                \n891e2047227ffff         0.000000        15.483172        13.556527   \n891e2041867ffff        15.483172         0.000000        13.284045   \n891e20404dbffff        13.556527        13.284045         0.000000   \n891e2040c33ffff        13.567259        18.602119        18.585472   \n891e20423d7ffff        10.156650        13.030038        10.210286   \n...                          ...              ...              ...   \n891f09b622bffff        12.633864        14.044484         9.491307   \n891f0986c2bffff        13.717816        14.919007         7.177924   \n891f09b33a3ffff        12.781822        13.425178        10.127019   \n891f09b34d7ffff        15.738619        18.159555        14.817430   \n891f72493a7ffff        11.172018        15.278976        10.057187   \n\nh3_id            891e2040c33ffff  891e20423d7ffff  891e204e57bffff  \\\nh3_id                                                                \n891e2047227ffff     1.356726e+01        10.156650        13.739254   \n891e2041867ffff     1.860212e+01        13.030038        13.166734   \n891e20404dbffff     1.858547e+01        10.210286        12.257914   \n891e2040c33ffff     3.371748e-07        14.343394        17.796221   \n891e20423d7ffff     1.434339e+01         0.000000        11.033111   \n...                          ...              ...              ...   \n891f09b622bffff     1.820131e+01        10.004661        11.800690   \n891f0986c2bffff     1.900408e+01        11.803801        12.453626   \n891f09b33a3ffff     1.598944e+01         8.282883        10.898256   \n891f09b34d7ffff     1.445886e+01        13.103559        17.099773   \n891f72493a7ffff     1.606341e+01         9.614121        13.418228   \n\nh3_id            891e20403a3ffff  891e204e03bffff  891e20401afffff  \\\nh3_id                                                                \n891e2047227ffff        10.859733        13.105129        22.038115   \n891e2041867ffff        15.129674        12.345375        29.288923   \n891e20404dbffff        14.884231         5.288875        28.136780   \n891e2040c33ffff        10.888469        17.731918        15.525991   \n891e20423d7ffff        10.284707         8.423154        24.163193   \n...                          ...              ...              ...   \n891f09b622bffff        14.416611         8.949463        27.717541   \n891f0986c2bffff        14.912760         9.133462        28.180996   \n891f09b33a3ffff        12.612247         8.905512        26.159367   \n891f09b34d7ffff        14.663273        14.755547        23.134161   \n891f72493a7ffff        12.841720        10.570066        25.296923   \n\nh3_id            891e20429b7ffff  ...  891f724d4a7ffff  891f724de5bffff  \\\nh3_id                             ...                                     \n891e2047227ffff        13.294030  ...        12.430546        13.349469   \n891e2041867ffff        13.556836  ...        14.569889        15.502676   \n891e20404dbffff         9.114600  ...         9.603854        10.517776   \n891e2040c33ffff        18.600668  ...        18.126005        18.593868   \n891e20423d7ffff         9.501925  ...        10.154077        11.154383   \n...                          ...  ...              ...              ...   \n891f09b622bffff         4.713432  ...         8.843272        10.195327   \n891f0986c2bffff         9.802855  ...        10.079776         9.446014   \n891f09b33a3ffff        12.100352  ...        11.734184        12.530841   \n891f09b34d7ffff        14.792055  ...        16.505302        17.213251   \n891f72493a7ffff        10.756843  ...        10.781320        11.572672   \n\nh3_id            891f724d4dbffff  891f09b2457ffff  891f724d647ffff  \\\nh3_id                                                                \n891e2047227ffff        12.446839        11.776133        13.792823   \n891e2041867ffff        14.940289        17.735149        13.088144   \n891e20404dbffff        10.374251        15.547483        13.128371   \n891e2040c33ffff        18.730303        12.479927        15.122797   \n891e20423d7ffff        11.182618        11.347559        10.664679   \n...                          ...              ...              ...   \n891f09b622bffff        10.025219        15.150703        12.367767   \n891f0986c2bffff        10.187786        16.308352        14.334428   \n891f09b33a3ffff        12.327065        13.172895        12.708045   \n891f09b34d7ffff        16.809853        11.265896        13.950142   \n891f72493a7ffff        11.737987        14.314542        12.634862   \n\nh3_id            891f09b622bffff  891f0986c2bffff  891f09b33a3ffff  \\\nh3_id                                                                \n891e2047227ffff        12.633864        13.717816        12.781822   \n891e2041867ffff        14.044484        14.919007        13.425178   \n891e20404dbffff         9.491307         7.177924        10.127019   \n891e2040c33ffff        18.201307        19.004084        15.989441   \n891e20423d7ffff        10.004661        11.803801         8.282883   \n...                          ...              ...              ...   \n891f09b622bffff         0.000000         9.613380        12.393344   \n891f0986c2bffff         9.613380         0.000000        12.059016   \n891f09b33a3ffff        12.393344        12.059016         0.000000   \n891f09b34d7ffff        15.632843        15.757019        13.668926   \n891f72493a7ffff        10.523898         8.934619        11.579565   \n\nh3_id            891f09b34d7ffff  891f72493a7ffff  \nh3_id                                              \n891e2047227ffff        15.738619     1.117202e+01  \n891e2041867ffff        18.159555     1.527898e+01  \n891e20404dbffff        14.817430     1.005719e+01  \n891e2040c33ffff        14.458857     1.606341e+01  \n891e20423d7ffff        13.103559     9.614121e+00  \n...                          ...              ...  \n891f09b622bffff        15.632843     1.052390e+01  \n891f0986c2bffff        15.757019     8.934619e+00  \n891f09b33a3ffff        13.668926     1.157957e+01  \n891f09b34d7ffff         0.000000     1.438907e+01  \n891f72493a7ffff        14.389070     1.685874e-07  \n\n[17847 rows x 17847 columns]",
      "text/html": "<div>\n<style scoped>\n    .dataframe tbody tr th:only-of-type {\n        vertical-align: middle;\n    }\n\n    .dataframe tbody tr th {\n        vertical-align: top;\n    }\n\n    .dataframe thead th {\n        text-align: right;\n    }\n</style>\n<table border=\"1\" class=\"dataframe\">\n  <thead>\n    <tr style=\"text-align: right;\">\n      <th>h3_id</th>\n      <th>891e2047227ffff</th>\n      <th>891e2041867ffff</th>\n      <th>891e20404dbffff</th>\n      <th>891e2040c33ffff</th>\n      <th>891e20423d7ffff</th>\n      <th>891e204e57bffff</th>\n      <th>891e20403a3ffff</th>\n      <th>891e204e03bffff</th>\n      <th>891e20401afffff</th>\n      <th>891e20429b7ffff</th>\n      <th>...</th>\n      <th>891f724d4a7ffff</th>\n      <th>891f724de5bffff</th>\n      <th>891f724d4dbffff</th>\n      <th>891f09b2457ffff</th>\n      <th>891f724d647ffff</th>\n      <th>891f09b622bffff</th>\n      <th>891f0986c2bffff</th>\n      <th>891f09b33a3ffff</th>\n      <th>891f09b34d7ffff</th>\n      <th>891f72493a7ffff</th>\n    </tr>\n    <tr>\n      <th>h3_id</th>\n      <th></th>\n      <th></th>\n      <th></th>\n      <th></th>\n      <th></th>\n      <th></th>\n      <th></th>\n      <th></th>\n      <th></th>\n      <th></th>\n      <th></th>\n      <th></th>\n      <th></th>\n      <th></th>\n      <th></th>\n      <th></th>\n      <th></th>\n      <th></th>\n      <th></th>\n      <th></th>\n      <th></th>\n    </tr>\n  </thead>\n  <tbody>\n    <tr>\n      <th>891e2047227ffff</th>\n      <td>0.000000</td>\n      <td>15.483172</td>\n      <td>13.556527</td>\n      <td>1.356726e+01</td>\n      <td>10.156650</td>\n      <td>13.739254</td>\n      <td>10.859733</td>\n      <td>13.105129</td>\n      <td>22.038115</td>\n      <td>13.294030</td>\n      <td>...</td>\n      <td>12.430546</td>\n      <td>13.349469</td>\n      <td>12.446839</td>\n      <td>11.776133</td>\n      <td>13.792823</td>\n      <td>12.633864</td>\n      <td>13.717816</td>\n      <td>12.781822</td>\n      <td>15.738619</td>\n      <td>1.117202e+01</td>\n    </tr>\n    <tr>\n      <th>891e2041867ffff</th>\n      <td>15.483172</td>\n      <td>0.000000</td>\n      <td>13.284045</td>\n      <td>1.860212e+01</td>\n      <td>13.030038</td>\n      <td>13.166734</td>\n      <td>15.129674</td>\n      <td>12.345375</td>\n      <td>29.288923</td>\n      <td>13.556836</td>\n      <td>...</td>\n      <td>14.569889</td>\n      <td>15.502676</td>\n      <td>14.940289</td>\n      <td>17.735149</td>\n      <td>13.088144</td>\n      <td>14.044484</td>\n      <td>14.919007</td>\n      <td>13.425178</td>\n      <td>18.159555</td>\n      <td>1.527898e+01</td>\n    </tr>\n    <tr>\n      <th>891e20404dbffff</th>\n      <td>13.556527</td>\n      <td>13.284045</td>\n      <td>0.000000</td>\n      <td>1.858547e+01</td>\n      <td>10.210286</td>\n      <td>12.257914</td>\n      <td>14.884231</td>\n      <td>5.288875</td>\n      <td>28.136780</td>\n      <td>9.114600</td>\n      <td>...</td>\n      <td>9.603854</td>\n      <td>10.517776</td>\n      <td>10.374251</td>\n      <td>15.547483</td>\n      <td>13.128371</td>\n      <td>9.491307</td>\n      <td>7.177924</td>\n      <td>10.127019</td>\n      <td>14.817430</td>\n      <td>1.005719e+01</td>\n    </tr>\n    <tr>\n      <th>891e2040c33ffff</th>\n      <td>13.567259</td>\n      <td>18.602119</td>\n      <td>18.585472</td>\n      <td>3.371748e-07</td>\n      <td>14.343394</td>\n      <td>17.796221</td>\n      <td>10.888469</td>\n      <td>17.731918</td>\n      <td>15.525991</td>\n      <td>18.600668</td>\n      <td>...</td>\n      <td>18.126005</td>\n      <td>18.593868</td>\n      <td>18.730303</td>\n      <td>12.479927</td>\n      <td>15.122797</td>\n      <td>18.201307</td>\n      <td>19.004084</td>\n      <td>15.989441</td>\n      <td>14.458857</td>\n      <td>1.606341e+01</td>\n    </tr>\n    <tr>\n      <th>891e20423d7ffff</th>\n      <td>10.156650</td>\n      <td>13.030038</td>\n      <td>10.210286</td>\n      <td>1.434339e+01</td>\n      <td>0.000000</td>\n      <td>11.033111</td>\n      <td>10.284707</td>\n      <td>8.423154</td>\n      <td>24.163193</td>\n      <td>9.501925</td>\n      <td>...</td>\n      <td>10.154077</td>\n      <td>11.154383</td>\n      <td>11.182618</td>\n      <td>11.347559</td>\n      <td>10.664679</td>\n      <td>10.004661</td>\n      <td>11.803801</td>\n      <td>8.282883</td>\n      <td>13.103559</td>\n      <td>9.614121e+00</td>\n    </tr>\n    <tr>\n      <th>...</th>\n      <td>...</td>\n      <td>...</td>\n      <td>...</td>\n      <td>...</td>\n      <td>...</td>\n      <td>...</td>\n      <td>...</td>\n      <td>...</td>\n      <td>...</td>\n      <td>...</td>\n      <td>...</td>\n      <td>...</td>\n      <td>...</td>\n      <td>...</td>\n      <td>...</td>\n      <td>...</td>\n      <td>...</td>\n      <td>...</td>\n      <td>...</td>\n      <td>...</td>\n      <td>...</td>\n    </tr>\n    <tr>\n      <th>891f09b622bffff</th>\n      <td>12.633864</td>\n      <td>14.044484</td>\n      <td>9.491307</td>\n      <td>1.820131e+01</td>\n      <td>10.004661</td>\n      <td>11.800690</td>\n      <td>14.416611</td>\n      <td>8.949463</td>\n      <td>27.717541</td>\n      <td>4.713432</td>\n      <td>...</td>\n      <td>8.843272</td>\n      <td>10.195327</td>\n      <td>10.025219</td>\n      <td>15.150703</td>\n      <td>12.367767</td>\n      <td>0.000000</td>\n      <td>9.613380</td>\n      <td>12.393344</td>\n      <td>15.632843</td>\n      <td>1.052390e+01</td>\n    </tr>\n    <tr>\n      <th>891f0986c2bffff</th>\n      <td>13.717816</td>\n      <td>14.919007</td>\n      <td>7.177924</td>\n      <td>1.900408e+01</td>\n      <td>11.803801</td>\n      <td>12.453626</td>\n      <td>14.912760</td>\n      <td>9.133462</td>\n      <td>28.180996</td>\n      <td>9.802855</td>\n      <td>...</td>\n      <td>10.079776</td>\n      <td>9.446014</td>\n      <td>10.187786</td>\n      <td>16.308352</td>\n      <td>14.334428</td>\n      <td>9.613380</td>\n      <td>0.000000</td>\n      <td>12.059016</td>\n      <td>15.757019</td>\n      <td>8.934619e+00</td>\n    </tr>\n    <tr>\n      <th>891f09b33a3ffff</th>\n      <td>12.781822</td>\n      <td>13.425178</td>\n      <td>10.127019</td>\n      <td>1.598944e+01</td>\n      <td>8.282883</td>\n      <td>10.898256</td>\n      <td>12.612247</td>\n      <td>8.905512</td>\n      <td>26.159367</td>\n      <td>12.100352</td>\n      <td>...</td>\n      <td>11.734184</td>\n      <td>12.530841</td>\n      <td>12.327065</td>\n      <td>13.172895</td>\n      <td>12.708045</td>\n      <td>12.393344</td>\n      <td>12.059016</td>\n      <td>0.000000</td>\n      <td>13.668926</td>\n      <td>1.157957e+01</td>\n    </tr>\n    <tr>\n      <th>891f09b34d7ffff</th>\n      <td>15.738619</td>\n      <td>18.159555</td>\n      <td>14.817430</td>\n      <td>1.445886e+01</td>\n      <td>13.103559</td>\n      <td>17.099773</td>\n      <td>14.663273</td>\n      <td>14.755547</td>\n      <td>23.134161</td>\n      <td>14.792055</td>\n      <td>...</td>\n      <td>16.505302</td>\n      <td>17.213251</td>\n      <td>16.809853</td>\n      <td>11.265896</td>\n      <td>13.950142</td>\n      <td>15.632843</td>\n      <td>15.757019</td>\n      <td>13.668926</td>\n      <td>0.000000</td>\n      <td>1.438907e+01</td>\n    </tr>\n    <tr>\n      <th>891f72493a7ffff</th>\n      <td>11.172018</td>\n      <td>15.278976</td>\n      <td>10.057187</td>\n      <td>1.606341e+01</td>\n      <td>9.614121</td>\n      <td>13.418228</td>\n      <td>12.841720</td>\n      <td>10.570066</td>\n      <td>25.296923</td>\n      <td>10.756843</td>\n      <td>...</td>\n      <td>10.781320</td>\n      <td>11.572672</td>\n      <td>11.737987</td>\n      <td>14.314542</td>\n      <td>12.634862</td>\n      <td>10.523898</td>\n      <td>8.934619</td>\n      <td>11.579565</td>\n      <td>14.389070</td>\n      <td>1.685874e-07</td>\n    </tr>\n  </tbody>\n</table>\n<p>17847 rows × 17847 columns</p>\n</div>"
     },
     "execution_count": 3,
     "metadata": {},
     "output_type": "execute_result"
    }
   ],
   "source": [
    "embeddings_distances\n"
   ],
   "metadata": {
    "collapsed": false,
    "pycharm": {
     "name": "#%%\n"
    }
   }
  },
  {
   "cell_type": "code",
   "execution_count": 4,
   "outputs": [],
   "source": [
    "chosen_hex = '891e2047227ffff'"
   ],
   "metadata": {
    "collapsed": false,
    "pycharm": {
     "name": "#%%\n"
    }
   }
  },
  {
   "cell_type": "code",
   "execution_count": 11,
   "outputs": [],
   "source": [
    "def aggregate(city_name):\n",
    "    hex_df = gpd.read_file(os.path.join(\"..\",\"data\", \"hexes\", f\"{city_name}_9.geojson\"))\n",
    "    hex_df.set_crs(epsg=4326)\n",
    "    hex_df.set_index(\"h3\", inplace=True)\n",
    "\n",
    "    otodom_prices = gpd.read_file(os.path.join(\"..\",\"data\", \"raw\", f\"{city_name}_otodom_prices.geojson\"))\n",
    "    otodom_prices.set_crs(epsg=4326)\n",
    "\n",
    "    gdf = gpd.sjoin(hex_df, otodom_prices, op=\"intersects\", how=\"inner\").drop(columns=[\"index_right\"]).rename(\n",
    "        columns={\"id\": \"count\"})\n",
    "\n",
    "    agg_function_columns = {\"count\": \"count\", \"price\": \"mean\", \"price_per_m\": \"mean\", \"area\": \"mean\"}\n",
    "    stats_df = gdf.groupby(by=\"h3\").agg(func=agg_function_columns)\n",
    "\n",
    "    gdf_grouped = stats_df.join(hex_df, how=\"right\", on='h3').fillna(0)\n",
    "    gdf_grouped = gpd.GeoDataFrame(gdf_grouped).set_crs(epsg=4326)\n",
    "    gdf_grouped.set_index(\"h3\", inplace=True)\n",
    "    return gdf_grouped"
   ],
   "metadata": {
    "collapsed": false,
    "pycharm": {
     "name": "#%%\n"
    }
   }
  },
  {
   "cell_type": "code",
   "execution_count": 13,
   "outputs": [],
   "source": [
    "for city in [\"wroclaw\", \"krakow\", \"poznan\", \"warszawa\", \"gdansk\"]:\n",
    "    gdf_group = aggregate(city)\n",
    "    gdf_group.to_pickle(os.path.join(\"..\",\"data\",\"processed\",f\"{city}_grouped.pkl.gz\"))"
   ],
   "metadata": {
    "collapsed": false,
    "pycharm": {
     "name": "#%%\n"
    }
   }
  },
  {
   "cell_type": "code",
   "execution_count": 15,
   "outputs": [
    {
     "data": {
      "text/plain": "                      x_0       x_1       x_2      x_3       x_4       x_5  \\\nh3_id                                                                        \n891e2047227ffff  0.542117 -0.514654  0.693679  0.66416  0.587295  0.685693   \n\n                      x_6       x_7      x_8       x_9  ...      z_40  \\\nh3_id                                                   ...             \n891e2047227ffff -0.350693  0.473523  0.09962 -0.481492  ...  0.203112   \n\n                     z_41      z_42      z_43      z_44      z_45      z_46  \\\nh3_id                                                                         \n891e2047227ffff  0.194455  1.686684  0.398253 -0.256026 -0.547759 -0.381023   \n\n                     z_47      z_48      z_49  \nh3_id                                          \n891e2047227ffff -1.676773 -0.347787  0.383098  \n\n[1 rows x 144 columns]",
      "text/html": "<div>\n<style scoped>\n    .dataframe tbody tr th:only-of-type {\n        vertical-align: middle;\n    }\n\n    .dataframe tbody tr th {\n        vertical-align: top;\n    }\n\n    .dataframe thead th {\n        text-align: right;\n    }\n</style>\n<table border=\"1\" class=\"dataframe\">\n  <thead>\n    <tr style=\"text-align: right;\">\n      <th></th>\n      <th>x_0</th>\n      <th>x_1</th>\n      <th>x_2</th>\n      <th>x_3</th>\n      <th>x_4</th>\n      <th>x_5</th>\n      <th>x_6</th>\n      <th>x_7</th>\n      <th>x_8</th>\n      <th>x_9</th>\n      <th>...</th>\n      <th>z_40</th>\n      <th>z_41</th>\n      <th>z_42</th>\n      <th>z_43</th>\n      <th>z_44</th>\n      <th>z_45</th>\n      <th>z_46</th>\n      <th>z_47</th>\n      <th>z_48</th>\n      <th>z_49</th>\n    </tr>\n    <tr>\n      <th>h3_id</th>\n      <th></th>\n      <th></th>\n      <th></th>\n      <th></th>\n      <th></th>\n      <th></th>\n      <th></th>\n      <th></th>\n      <th></th>\n      <th></th>\n      <th></th>\n      <th></th>\n      <th></th>\n      <th></th>\n      <th></th>\n      <th></th>\n      <th></th>\n      <th></th>\n      <th></th>\n      <th></th>\n      <th></th>\n    </tr>\n  </thead>\n  <tbody>\n    <tr>\n      <th>891e2047227ffff</th>\n      <td>0.542117</td>\n      <td>-0.514654</td>\n      <td>0.693679</td>\n      <td>0.66416</td>\n      <td>0.587295</td>\n      <td>0.685693</td>\n      <td>-0.350693</td>\n      <td>0.473523</td>\n      <td>0.09962</td>\n      <td>-0.481492</td>\n      <td>...</td>\n      <td>0.203112</td>\n      <td>0.194455</td>\n      <td>1.686684</td>\n      <td>0.398253</td>\n      <td>-0.256026</td>\n      <td>-0.547759</td>\n      <td>-0.381023</td>\n      <td>-1.676773</td>\n      <td>-0.347787</td>\n      <td>0.383098</td>\n    </tr>\n  </tbody>\n</table>\n<p>1 rows × 144 columns</p>\n</div>"
     },
     "execution_count": 15,
     "metadata": {},
     "output_type": "execute_result"
    }
   ],
   "source": [
    "embeddings.loc[[chosen_hex]]"
   ],
   "metadata": {
    "collapsed": false,
    "pycharm": {
     "name": "#%%\n"
    }
   }
  },
  {
   "cell_type": "code",
   "execution_count": 20,
   "outputs": [
    {
     "name": "stdout",
     "output_type": "stream",
     "text": [
      "wroclaw = 2294\n",
      "krakow = 12019\n",
      "poznan = 5743\n",
      "warszawa = 12138\n",
      "gdansk = 5482\n"
     ]
    }
   ],
   "source": [
    "for city in [\"wroclaw\", \"krakow\", \"poznan\", \"warszawa\", \"gdansk\"]:\n",
    "    otodom_df = os.path.join(\"..\",\"data\",\"raw\",f\"{city}_otodom_prices.geojson\")\n",
    "    print(f\"{city} = {len(gpd.read_file(otodom_df))}\")"
   ],
   "metadata": {
    "collapsed": false,
    "pycharm": {
     "name": "#%%\n"
    }
   }
  },
  {
   "cell_type": "code",
   "execution_count": 26,
   "outputs": [
    {
     "data": {
      "text/plain": "                      x_0       x_1       x_2      x_3       x_4       x_5  \\\nh3_id                                                                        \n891e2047227ffff  0.542117 -0.514654  0.693679  0.66416  0.587295  0.685693   \n\n                      x_6       x_7      x_8       x_9  ...      y_54  \\\nh3_id                                                   ...             \n891e2047227ffff -0.350693  0.473523  0.09962 -0.481492  ...  0.608094   \n\n                     y_55      y_56      y_57      y_58      y_59      y_60  \\\nh3_id                                                                         \n891e2047227ffff -0.211633 -0.317485  0.169282  0.052238 -0.047209  0.036481   \n\n                     y_61      y_62      y_63  \nh3_id                                          \n891e2047227ffff -0.369193 -0.074342  0.067933  \n\n[1 rows x 94 columns]",
      "text/html": "<div>\n<style scoped>\n    .dataframe tbody tr th:only-of-type {\n        vertical-align: middle;\n    }\n\n    .dataframe tbody tr th {\n        vertical-align: top;\n    }\n\n    .dataframe thead th {\n        text-align: right;\n    }\n</style>\n<table border=\"1\" class=\"dataframe\">\n  <thead>\n    <tr style=\"text-align: right;\">\n      <th></th>\n      <th>x_0</th>\n      <th>x_1</th>\n      <th>x_2</th>\n      <th>x_3</th>\n      <th>x_4</th>\n      <th>x_5</th>\n      <th>x_6</th>\n      <th>x_7</th>\n      <th>x_8</th>\n      <th>x_9</th>\n      <th>...</th>\n      <th>y_54</th>\n      <th>y_55</th>\n      <th>y_56</th>\n      <th>y_57</th>\n      <th>y_58</th>\n      <th>y_59</th>\n      <th>y_60</th>\n      <th>y_61</th>\n      <th>y_62</th>\n      <th>y_63</th>\n    </tr>\n    <tr>\n      <th>h3_id</th>\n      <th></th>\n      <th></th>\n      <th></th>\n      <th></th>\n      <th></th>\n      <th></th>\n      <th></th>\n      <th></th>\n      <th></th>\n      <th></th>\n      <th></th>\n      <th></th>\n      <th></th>\n      <th></th>\n      <th></th>\n      <th></th>\n      <th></th>\n      <th></th>\n      <th></th>\n      <th></th>\n      <th></th>\n    </tr>\n  </thead>\n  <tbody>\n    <tr>\n      <th>891e2047227ffff</th>\n      <td>0.542117</td>\n      <td>-0.514654</td>\n      <td>0.693679</td>\n      <td>0.66416</td>\n      <td>0.587295</td>\n      <td>0.685693</td>\n      <td>-0.350693</td>\n      <td>0.473523</td>\n      <td>0.09962</td>\n      <td>-0.481492</td>\n      <td>...</td>\n      <td>0.608094</td>\n      <td>-0.211633</td>\n      <td>-0.317485</td>\n      <td>0.169282</td>\n      <td>0.052238</td>\n      <td>-0.047209</td>\n      <td>0.036481</td>\n      <td>-0.369193</td>\n      <td>-0.074342</td>\n      <td>0.067933</td>\n    </tr>\n  </tbody>\n</table>\n<p>1 rows × 94 columns</p>\n</div>"
     },
     "execution_count": 26,
     "metadata": {},
     "output_type": "execute_result"
    }
   ],
   "source": [
    "tup = (\"x\",\"y\")\n",
    "embeddings[[col for t in tup for col in embeddings.columns if col.startswith(t)]].loc[[chosen_hex]]\n"
   ],
   "metadata": {
    "collapsed": false,
    "pycharm": {
     "name": "#%%\n"
    }
   }
  }
 ],
 "metadata": {
  "kernelspec": {
   "display_name": "Python 3",
   "language": "python",
   "name": "python3"
  },
  "language_info": {
   "codemirror_mode": {
    "name": "ipython",
    "version": 2
   },
   "file_extension": ".py",
   "mimetype": "text/x-python",
   "name": "python",
   "nbconvert_exporter": "python",
   "pygments_lexer": "ipython2",
   "version": "2.7.6"
  }
 },
 "nbformat": 4,
 "nbformat_minor": 0
}