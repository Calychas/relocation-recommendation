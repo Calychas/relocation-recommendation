{
 "cells": [
  {
   "cell_type": "code",
   "execution_count": null,
   "metadata": {},
   "outputs": [],
   "source": [
    "import pandas as pd\r\n",
    "import os\r\n",
    "df = pd.read_pickle(os.path.join(\"data\", \"processed\", \"polish_functional.pkl\"))\r\n",
    "df = df.drop(columns=['city']).reset_index()\r\n",
    "df"
   ]
  },
  {
   "cell_type": "code",
   "execution_count": null,
   "metadata": {},
   "outputs": [],
   "source": [
    "import geopandas as gpd\r\n",
    "from pathlib import Path\r\n",
    "hexes = Path(\"data\", \"hexes\")\r\n",
    "\r\n",
    "dfs = []\r\n",
    "for f in [\"gdansk\", \"krakow\", \"poznan\", \"warszawa\", \"wroclaw\"]:\r\n",
    "    df = gpd.read_file((os.path.join(\"data\", \"hexes\", f\"{f}_9.geojson\")))\r\n",
    "    dfs.append(df)\r\n",
    "\r\n",
    "df_full = gpd.GeoDataFrame(pd.concat(dfs))\r\n",
    "df_full.set_crs(\"EPSG:4326\", inplace=True)\r\n",
    "df_full"
   ]
  },
  {
   "cell_type": "code",
   "execution_count": null,
   "metadata": {},
   "outputs": [],
   "source": [
    "df_x = df_full.merge(df, how='left', left_on='h3', right_on='h3').fillna(0).drop(columns='geometry').set_index('h3')\r\n",
    "df_x"
   ]
  },
  {
   "cell_type": "code",
   "execution_count": null,
   "metadata": {},
   "outputs": [],
   "source": [
    "df_x.to_pickle(os.path.join(\"data\", \"processed\", \"functional.pkl.gz\"))"
   ]
  }
 ],
 "metadata": {
  "kernelspec": {
   "display_name": "Python 3.8.6  ('env': venv)",
   "name": "python386jvsc74a57bd082e518efe277ee5a00982e862e28e1995e74f636b5cf3678ef966f3fbeb51464"
  },
  "language_info": {
   "name": "python",
   "version": ""
  },
  "orig_nbformat": 2
 },
 "nbformat": 4,
 "nbformat_minor": 2
}