{
 "cells": [
  {
   "cell_type": "code",
   "execution_count": 53,
   "metadata": {},
   "outputs": [],
   "source": [
    "import pydeck as pdk\r\n",
    "import pandas as pd\r\n",
    "import numpy as np\r\n",
    "\r\n",
    "from typing import List, Tuple\r\n",
    "import geopandas as gpd\r\n",
    "from copy import deepcopy\r\n",
    "import h3\r\n",
    "from shapely.geometry import Polygon\r\n",
    "import os\r\n",
    "import json \r\n",
    "\r\n",
    "from src.settings import DATA_DIR\r\n",
    "\r\n",
    "from ipywidgets import HTML\r\n",
    "from IPython.display import display"
   ]
  },
  {
   "cell_type": "code",
   "execution_count": 3,
   "metadata": {},
   "outputs": [],
   "source": [
    "def get_hex_from_city_geojson(\r\n",
    "    city: dict,\r\n",
    "    resolution: int = 8\r\n",
    ") -> Tuple[gpd.GeoDataFrame, List[str]]:\r\n",
    "    \"\"\"Fills city poolygon with hexagons at a given resolution.\r\n",
    "\r\n",
    "    Args:\r\n",
    "        city (dict): Geojson formatted city polygon\r\n",
    "        resolution (int, optional): Uber H3 resolution. Defaults to 8.\r\n",
    "\r\n",
    "    Returns:\r\n",
    "        Tuple[gpd.GeoDataFrame, List[str]]: geodataframe with hexagons\r\n",
    "        in city and list of hexagons ids.\r\n",
    "\r\n",
    "    \"\"\"\r\n",
    "    city = deepcopy(city)\r\n",
    "    city['geometry']['coordinates'][0] = [\r\n",
    "        [x[1], x[0]] for x in city['geometry']['coordinates'][0]\r\n",
    "    ]\r\n",
    "    hexagons = h3.polyfill(city['geometry'], resolution)\r\n",
    "\r\n",
    "    df = pd.DataFrame(hexagons, columns=['hex_id'])\r\n",
    "\r\n",
    "    df['geometry_dict'] = df['hex_id'].apply(\r\n",
    "        lambda x: {\r\n",
    "            \"type\": \"Polygon\",\r\n",
    "            \"coordinates\": [h3.h3_to_geo_boundary(h=x, geo_json=True)]\r\n",
    "        })\r\n",
    "\r\n",
    "    df['geometry'] = df['hex_id'].apply(\r\n",
    "        lambda x: Polygon(h3.h3_to_geo_boundary(h=x, geo_json=True)))\r\n",
    "\r\n",
    "    gdf = gpd.GeoDataFrame(df)\r\n",
    "\r\n",
    "    return gdf, hexagons"
   ]
  },
  {
   "cell_type": "code",
   "execution_count": 37,
   "metadata": {},
   "outputs": [],
   "source": [
    "with open(os.path.join(DATA_DIR, 'wroclaw.geojson')) as f:\r\n",
    "    wroclaw_geojson = json.load(f)\r\n",
    "\r\n",
    "wro_df, hex_wro = get_hex_from_city_geojson(wroclaw_geojson, resolution=8)"
   ]
  },
  {
   "cell_type": "code",
   "execution_count": 38,
   "metadata": {},
   "outputs": [],
   "source": [
    "wro_df = wro_df.set_crs(epsg=4326)"
   ]
  },
  {
   "cell_type": "code",
   "execution_count": 39,
   "metadata": {},
   "outputs": [],
   "source": [
    "gjson = wro_df.__geo_interface__"
   ]
  },
  {
   "cell_type": "code",
   "execution_count": 85,
   "metadata": {},
   "outputs": [],
   "source": [
    "def hex_click(instance, payload):\r\n",
    "    try:\r\n",
    "        tmp = payload['data']['object']['hex_id']\r\n",
    "        text.value = f'HEX ID: {tmp}'\r\n",
    "    except Exception as e:\r\n",
    "        text.value = 'Error: %s' % e"
   ]
  },
  {
   "cell_type": "code",
   "execution_count": 95,
   "metadata": {},
   "outputs": [
    {
     "data": {
      "application/vnd.jupyter.widget-view+json": {
       "model_id": "ed37628fc78d4c7fb90151712750ffb8",
       "version_major": 2,
       "version_minor": 0
      },
      "text/plain": "HTML(value='Move the viewport')"
     },
     "metadata": {},
     "output_type": "display_data"
    },
    {
     "data": {
      "application/vnd.jupyter.widget-view+json": {
       "model_id": "cf4992726a7e4f459de1b1602b7c743a",
       "version_major": 2,
       "version_minor": 0
      },
      "text/plain": "DeckGLWidget(carto_key=None, custom_libraries=[], google_maps_key=None, json_input='{\"initialViewState\": {\"lat…"
     },
     "metadata": {},
     "output_type": "display_data"
    }
   ],
   "source": [
    "WRO_POS = [51.1239095, 17.0055833]\r\n",
    "WRO_ZOOM = 11\r\n",
    "\r\n",
    "text = HTML(value='Move the viewport')\r\n",
    "\r\n",
    "layer = pdk.Layer(\r\n",
    "    \"GeoJsonLayer\",\r\n",
    "    data=wro_df,\r\n",
    "    opacity=0.2,\r\n",
    "    get_fill_color=[42, 111, 76],\r\n",
    "    get_line_color=[0, 0, 0],\r\n",
    "    line_width_min_pixels=2,\r\n",
    "    pickable=True,\r\n",
    ")\r\n",
    "\r\n",
    "\r\n",
    "view_state = pdk.ViewState(\r\n",
    "    longitude=WRO_POS[1],\r\n",
    "    latitude=WRO_POS[0],\r\n",
    "    zoom=WRO_ZOOM)\r\n",
    "\r\n",
    "\r\n",
    "r = pdk.Deck(layers=[layer], initial_view_state=view_state)\r\n",
    "r.deck_widget.on_click(hex_click)\r\n",
    "display(text)\r\n",
    "r.show()\r\n",
    "# r.to_html('hexagon-example.html')"
   ]
  }
 ],
 "metadata": {
  "kernelspec": {
   "display_name": "Python 3.8.10 64-bit ('venv')",
   "name": "python3810jvsc74a57bd0dfd6934f8ee59d23a894faf384fb7d1d53acc5015eb4a27705dc85e73e9fdca6"
  },
  "language_info": {
   "codemirror_mode": {
    "name": "ipython",
    "version": 3
   },
   "file_extension": ".py",
   "mimetype": "text/x-python",
   "name": "python",
   "nbconvert_exporter": "python",
   "pygments_lexer": "ipython3",
   "version": "3.8.10"
  },
  "metadata": {
   "interpreter": {
    "hash": "dfd6934f8ee59d23a894faf384fb7d1d53acc5015eb4a27705dc85e73e9fdca6"
   }
  },
  "orig_nbformat": 2
 },
 "nbformat": 4,
 "nbformat_minor": 2
}