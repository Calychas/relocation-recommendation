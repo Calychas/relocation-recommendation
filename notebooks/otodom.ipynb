{
 "cells": [
  {
   "cell_type": "code",
   "execution_count": 3,
   "metadata": {},
   "outputs": [
    {
     "name": "stdout",
     "output_type": "stream",
     "text": [
      "The autoreload extension is already loaded. To reload it, use:\n",
      "  %reload_ext autoreload\n"
     ]
    }
   ],
   "source": [
    "%load_ext autoreload\n",
    "%autoreload 2"
   ]
  },
  {
   "cell_type": "code",
   "execution_count": 7,
   "metadata": {},
   "outputs": [],
   "source": [
    "import h3\n",
    "import pandas as pd\n",
    "import geopandas as gpd\n",
    "import numpy as np\n",
    "from src.settings import *\n",
    "from pathlib import Path\n",
    "from src.tools.osmnx_utils import get_place_dir_name\n",
    "\n",
    "from tqdm.auto import tqdm"
   ]
  },
  {
   "cell_type": "code",
   "execution_count": 9,
   "metadata": {},
   "outputs": [
    {
     "data": {
      "text/html": "<div>\n<style scoped>\n    .dataframe tbody tr th:only-of-type {\n        vertical-align: middle;\n    }\n\n    .dataframe tbody tr th {\n        vertical-align: top;\n    }\n\n    .dataframe thead th {\n        text-align: right;\n    }\n</style>\n<table border=\"1\" class=\"dataframe\">\n  <thead>\n    <tr style=\"text-align: right;\">\n      <th></th>\n      <th>coordinates</th>\n      <th>parent</th>\n      <th>children</th>\n      <th>resolution</th>\n      <th>geometry</th>\n    </tr>\n    <tr>\n      <th>h3_id</th>\n      <th></th>\n      <th></th>\n      <th></th>\n      <th></th>\n      <th></th>\n    </tr>\n  </thead>\n  <tbody>\n    <tr>\n      <th>881e20425dfffff</th>\n      <td>(51.188640028315824, 16.927471793050152)</td>\n      <td>871e20425ffffff</td>\n      <td>{'891e20425c3ffff', '891e20425dbffff', '891e20...</td>\n      <td>8</td>\n      <td>POLYGON ((16.92238 51.19185, 16.91996 51.18757...</td>\n    </tr>\n    <tr>\n      <th>881e204053fffff</th>\n      <td>(51.13195496449311, 16.971426881078962)</td>\n      <td>871e20405ffffff</td>\n      <td>{'891e2040527ffff', '891e204052fffff', '891e20...</td>\n      <td>8</td>\n      <td>POLYGON ((16.96634 51.13517, 16.96392 51.13089...</td>\n    </tr>\n    <tr>\n      <th>881e204701fffff</th>\n      <td>(51.138275518760096, 17.099304872961007)</td>\n      <td>871e20470ffffff</td>\n      <td>{'891e2047007ffff', '891e2047017ffff', '891e20...</td>\n      <td>8</td>\n      <td>POLYGON ((17.09422 51.14149, 17.09180 51.13722...</td>\n    </tr>\n    <tr>\n      <th>881e20470bfffff</th>\n      <td>(51.14361203282625, 17.109239016654882)</td>\n      <td>871e20470ffffff</td>\n      <td>{'891e20470a7ffff', '891e20470a3ffff', '891e20...</td>\n      <td>8</td>\n      <td>POLYGON ((17.10415 51.14683, 17.10173 51.14255...</td>\n    </tr>\n    <tr>\n      <th>881e2051b7fffff</th>\n      <td>(51.1586659542696, 16.85536149252729)</td>\n      <td>871e2051bffffff</td>\n      <td>{'891e2051b63ffff', '891e2051b77ffff', '891e20...</td>\n      <td>8</td>\n      <td>POLYGON ((16.85026 51.16187, 16.84786 51.15759...</td>\n    </tr>\n  </tbody>\n</table>\n</div>",
      "text/plain": "                                              coordinates           parent  \\\nh3_id                                                                        \n881e20425dfffff  (51.188640028315824, 16.927471793050152)  871e20425ffffff   \n881e204053fffff   (51.13195496449311, 16.971426881078962)  871e20405ffffff   \n881e204701fffff  (51.138275518760096, 17.099304872961007)  871e20470ffffff   \n881e20470bfffff   (51.14361203282625, 17.109239016654882)  871e20470ffffff   \n881e2051b7fffff     (51.1586659542696, 16.85536149252729)  871e2051bffffff   \n\n                                                          children  \\\nh3_id                                                                \n881e20425dfffff  {'891e20425c3ffff', '891e20425dbffff', '891e20...   \n881e204053fffff  {'891e2040527ffff', '891e204052fffff', '891e20...   \n881e204701fffff  {'891e2047007ffff', '891e2047017ffff', '891e20...   \n881e20470bfffff  {'891e20470a7ffff', '891e20470a3ffff', '891e20...   \n881e2051b7fffff  {'891e2051b63ffff', '891e2051b77ffff', '891e20...   \n\n                 resolution                                           geometry  \nh3_id                                                                           \n881e20425dfffff           8  POLYGON ((16.92238 51.19185, 16.91996 51.18757...  \n881e204053fffff           8  POLYGON ((16.96634 51.13517, 16.96392 51.13089...  \n881e204701fffff           8  POLYGON ((17.09422 51.14149, 17.09180 51.13722...  \n881e20470bfffff           8  POLYGON ((17.10415 51.14683, 17.10173 51.14255...  \n881e2051b7fffff           8  POLYGON ((16.85026 51.16187, 16.84786 51.15759...  "
     },
     "execution_count": 9,
     "metadata": {},
     "output_type": "execute_result"
    }
   ],
   "source": [
    "place_name = \"Wrocław,Poland\"\n",
    "place_dir_name = get_place_dir_name(place_name)\n",
    "resolution = 8\n",
    "buffered = True\n",
    "hexagons = gpd.read_file(GENERATED_DATA_DIR.joinpath(place_dir_name, f\"hex_{resolution}{'_buffered' if buffered else ''}.geojson\"), driver=\"GeoJSON\").set_index(\"h3_id\")\n",
    "hexagons.head(5)"
   ]
  }
 ],
 "metadata": {
  "kernelspec": {
   "display_name": "Python 3.8.8  ('venv': venv)",
   "name": "pythonjvsc74a57bd072e688189f1bec040027e719e41badf4d232fdf71025f35724678b36c413ac34"
  },
  "language_info": {
   "codemirror_mode": {
    "name": "ipython",
    "version": 3
   },
   "file_extension": ".py",
   "mimetype": "text/x-python",
   "name": "python",
   "nbconvert_exporter": "python",
   "pygments_lexer": "ipython3",
   "version": "3.8.8"
  },
  "metadata": {
   "interpreter": {
    "hash": "72e688189f1bec040027e719e41badf4d232fdf71025f35724678b36c413ac34"
   }
  },
  "orig_nbformat": 2
 },
 "nbformat": 4,
 "nbformat_minor": 2
}